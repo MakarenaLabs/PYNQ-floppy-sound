{
 "cells": [
  {
   "cell_type": "code",
   "execution_count": 1,
   "id": "695060bc",
   "metadata": {},
   "outputs": [
    {
     "data": {
      "application/javascript": [
       "\n",
       "try {\n",
       "require(['notebook/js/codecell'], function(codecell) {\n",
       "  codecell.CodeCell.options_default.highlight_modes[\n",
       "      'magic_text/x-csrc'] = {'reg':[/^%%microblaze/]};\n",
       "  Jupyter.notebook.events.one('kernel_ready.Kernel', function(){\n",
       "      Jupyter.notebook.get_cells().map(function(cell){\n",
       "          if (cell.cell_type == 'code'){ cell.auto_highlight(); } }) ;\n",
       "  });\n",
       "});\n",
       "} catch (e) {};\n"
      ]
     },
     "metadata": {},
     "output_type": "display_data"
    },
    {
     "data": {
      "application/javascript": [
       "\n",
       "try {\n",
       "require(['notebook/js/codecell'], function(codecell) {\n",
       "  codecell.CodeCell.options_default.highlight_modes[\n",
       "      'magic_text/x-csrc'] = {'reg':[/^%%pybind11/]};\n",
       "  Jupyter.notebook.events.one('kernel_ready.Kernel', function(){\n",
       "      Jupyter.notebook.get_cells().map(function(cell){\n",
       "          if (cell.cell_type == 'code'){ cell.auto_highlight(); } }) ;\n",
       "  });\n",
       "});\n",
       "} catch (e) {};\n"
      ]
     },
     "metadata": {},
     "output_type": "display_data"
    }
   ],
   "source": [
    "from pynq.overlays.base import BaseOverlay\n",
    "from pynq.lib.arduino import Arduino_IO"
   ]
  },
  {
   "cell_type": "code",
   "execution_count": 2,
   "id": "79e88404",
   "metadata": {},
   "outputs": [],
   "source": [
    "# Define an octave with naturals and sharps (Zz = rest)\n",
    "Cn = 1\n",
    "Cs = 2\n",
    "Dn = 3\n",
    "Ds = 4\n",
    "En = 5\n",
    "Fn = 6\n",
    "Fs = 7\n",
    "Gn = 8\n",
    "Gs = 9\n",
    "An = 10\n",
    "As = 11\n",
    "Bn = 12\n",
    "Zz = 13\n",
    "\n",
    "# Define another one with flats and remaining sharps\n",
    "Bs = 1\n",
    "Df = 2\n",
    "Dn2 = 3\n",
    "Ef = 4\n",
    "En2 = 5\n",
    "Es = 6\n",
    "Gf = 7\n",
    "Gn2 = 8\n",
    "Af = 9\n",
    "An2 = 10\n",
    "Bf = 11\n",
    "Bn2 = 12\n",
    "Zz2 = 13"
   ]
  },
  {
   "cell_type": "markdown",
   "id": "200d759e",
   "metadata": {},
   "source": [
    "# PS - PL mode"
   ]
  },
  {
   "cell_type": "code",
   "execution_count": null,
   "id": "942cb2d4",
   "metadata": {},
   "outputs": [],
   "source": [
    "base = BaseOverlay(\"base.bit\")"
   ]
  },
  {
   "cell_type": "code",
   "execution_count": null,
   "id": "dbb1d8d1",
   "metadata": {},
   "outputs": [],
   "source": [
    "arduino_pin_d8 = Arduino_IO(base.ARDUINO, 8, 'out')\n",
    "arduino_pin_d9 = Arduino_IO(base.ARDUINO, 9, 'out')"
   ]
  },
  {
   "cell_type": "code",
   "execution_count": null,
   "id": "ea820b48",
   "metadata": {},
   "outputs": [],
   "source": [
    "dirPin = arduino_pin_d8\n",
    "stepPin = arduino_pin_d9"
   ]
  },
  {
   "cell_type": "code",
   "execution_count": null,
   "id": "e4ce1cad",
   "metadata": {},
   "outputs": [],
   "source": [
    "# Frequencies in hundredths of Hz, e.g. middle A = 44000\n",
    "# 4 Octaves with 12 notes per octave, i.e. C to B\n",
    "\n",
    "freq = [[13081,13859,14683,15556,16481,17461,18500,19600,20765,22000,23308,24694],\n",
    "[26163,27718,29366,31113,32963,34923,36999,39200,41530,44000,46616,49388],\n",
    "[52325,55437,58733,62225,65925,69846,73999,78399,83061,88000,93233,98777],\n",
    "[104650,110873,117466,124451,131851,139691,147998,156798,166122,176000,186466,197553]]"
   ]
  },
  {
   "cell_type": "code",
   "execution_count": null,
   "id": "7d2c2387",
   "metadata": {},
   "outputs": [],
   "source": [
    "# Frequency (in Hz) is converted to Floppy Delay using the formula:\n",
    "#   314000 / frequency = floppy delay\n",
    "# so middle A = 314000 / 440 = 714\n",
    "#\n",
    "# Lowest realistic note is delay = 1550\n",
    "# Highest realistic note is delay = 210\n",
    "\n",
    "floppyConv = 31400000\n",
    "# Calculate all our floppy delays at the start\n",
    "floppyDelay = [[0 for j in range(12)] for i in range(4)]\n",
    "# Song1 is the C major scale (note, octave, length)\n",
    "song1_tempo = 120\n",
    "\n",
    "noteStatus = 0\n",
    "actual_note = 0\n",
    "actual_octave = 0"
   ]
  },
  {
   "cell_type": "code",
   "execution_count": null,
   "id": "bd5340ac",
   "metadata": {},
   "outputs": [],
   "source": [
    "def _resetMotor():\n",
    "    # To reset head position move back 10 then forward 5\n",
    "    dirPin.write(0)\n",
    "    for i in range(10):\n",
    "        stepPin.write(1)\n",
    "        stepPin.write(0)\n",
    "        time.sleep(0.001)\n",
    "\n",
    "        dirPin.write(1)\n",
    "    for i in range(5):\n",
    "        stepPin.write(1)\n",
    "        stepPin.write(0)\n",
    "        time.sleep(0.001)\n",
    "\n",
    "    time.sleep(0.4)"
   ]
  },
  {
   "cell_type": "code",
   "execution_count": null,
   "id": "6cdf1d82",
   "metadata": {},
   "outputs": [],
   "source": [
    "def _init():\n",
    "    _resetMotor()\n",
    "\n",
    "    for octave in range(4):\n",
    "        for note in range(12):\n",
    "            floppyDelay[octave][note] = floppyConv / freq[octave][note]"
   ]
  },
  {
   "cell_type": "code",
   "execution_count": null,
   "id": "27bb7e99",
   "metadata": {},
   "outputs": [],
   "source": [
    "import time\n",
    "def millis():\n",
    "    return round(time.time() * 1000)\n",
    "\n",
    "def delayMicroseconds(seconds):\n",
    "    time.sleep(seconds/1000000.0)"
   ]
  },
  {
   "cell_type": "code",
   "execution_count": null,
   "id": "cc7ecfc3",
   "metadata": {},
   "outputs": [],
   "source": [
    "def _playNote(note, octave, length):\n",
    "    if note == Zz:\n",
    "        time.sleep(length/1000)\n",
    "        return\n",
    "    \n",
    "    _dir = 1\n",
    "    pause = floppyDelay[octave][note] * 10\n",
    "\n",
    "    endTime = millis() + length\n",
    "    while (millis() < endTime):\n",
    "    #while(noteStatus):\n",
    "        dirPin.write(_dir)\n",
    "        if _dir == 0:\n",
    "            _dir = 1\n",
    "        else:\n",
    "            _dir = 0\n",
    "\n",
    "        stepPin.write(1)\n",
    "        stepPin.write(0)\n",
    "        delayMicroseconds(pause)"
   ]
  },
  {
   "cell_type": "code",
   "execution_count": null,
   "id": "0a2549ff",
   "metadata": {},
   "outputs": [],
   "source": [
    "def _rest(length):\n",
    "    endTime = time.time() + length/1000\n",
    "    while time.time() < endTime:\n",
    "        time.sleep(0.005)"
   ]
  },
  {
   "cell_type": "code",
   "execution_count": null,
   "id": "01e0dcac",
   "metadata": {},
   "outputs": [],
   "source": [
    "_init()"
   ]
  },
  {
   "cell_type": "code",
   "execution_count": null,
   "id": "0903e715",
   "metadata": {},
   "outputs": [],
   "source": [
    "_playNote(Cs, 3, 1000)"
   ]
  },
  {
   "cell_type": "code",
   "execution_count": null,
   "id": "fce7e1dc",
   "metadata": {},
   "outputs": [],
   "source": [
    "# super mario: EE E CE G -G\n",
    "\n",
    "_playNote(Es, 3, 200)\n",
    "_playNote(Zz, 1, 50)\n",
    "_playNote(Es, 3, 200)\n",
    "_playNote(Zz, 1, 150)\n",
    "_playNote(Es, 3, 200)\n",
    "_playNote(Zz, 1, 200)\n",
    "_playNote(Cs, 3, 200)\n",
    "_playNote(Zz, 1, 80)\n",
    "_playNote(Es, 3, 200)\n",
    "_playNote(Zz, 1, 200)\n",
    "_playNote(Gs, 3, 150)\n",
    "\n"
   ]
  },
  {
   "cell_type": "markdown",
   "id": "f70752d7",
   "metadata": {},
   "source": [
    "# Microblaze mode"
   ]
  },
  {
   "cell_type": "code",
   "execution_count": 3,
   "id": "f4bfed78",
   "metadata": {},
   "outputs": [],
   "source": [
    "base = BaseOverlay(\"base.bit\")"
   ]
  },
  {
   "cell_type": "code",
   "execution_count": 4,
   "id": "0fe1d66f",
   "metadata": {},
   "outputs": [],
   "source": [
    "%%microblaze base.ARDUINO\n",
    "#include <pyprintf.h>\n",
    "#include \"gpio.h\"\n",
    "#include <unistd.h>\n",
    "#include <time.h>\n",
    "#include <timer.h>\n",
    "\n",
    "gpio dirPin;\n",
    "gpio stepPin;\n",
    "\n",
    "// Define an octave with naturals and sharps (Zz = rest)\n",
    "enum { Cn, Cs, Dn, Ds, En, Fn, Fs, Gn, Gs, An, As, Bn, Zz };\n",
    "\n",
    "// Define another one with flats and remaining sharps\n",
    "enum { Bs, Df, Dn2, Ef, En2, Es, Gf, Gn2, Af, An2, Bf, Bn2, Zz2 };\n",
    "\n",
    "/**\n",
    " * Frequencies in hundredths of Hz, e.g. middle A = 44000\n",
    " * 4 Octaves with 12 notes per octave, i.e. C to B\n",
    " */\n",
    "const int freq[4][12] = {\n",
    "    { 13081,13859,14683,15556,16481,17461,18500,19600,20765,22000,23308,24694 },\n",
    "    { 26163,27718,29366,31113,32963,34923,36999,39200,41530,44000,46616,49388 },\n",
    "    { 52325,55437,58733,62225,65925,69846,73999,78399,83061,88000,93233,98777 },\n",
    "    { 104650,110873,117466,124451,131851,139691,147998,156798,166122,176000,186466,197553 }\n",
    "};\n",
    "/**\n",
    " * Frequency (in Hz) is converted to Floppy Delay using the formula:\n",
    " *   314000 / frequency = floppy delay\n",
    " * so middle A = 314000 / 440 = 714\n",
    " *\n",
    " * Lowest realistic note is delay = 1550\n",
    " * Highest realistic note is delay = 210\n",
    " */\n",
    "const int floppyConv = 31400000;\n",
    "// Calculate all our floppy delays at the start\n",
    "int floppyDelay[4][12];\n",
    "// Song1 is the C major scale (note, octave, length)\n",
    "const int song1_tempo = 120;\n",
    "\n",
    "int noteStatus = 0;\n",
    "int actual_note;\n",
    "int actual_octave;\n",
    "\n",
    "#define HIGH 1\n",
    "#define LOW 0\n",
    "\n",
    "void delay(int milliseconds) {\n",
    "    delay_ms(milliseconds);\n",
    "}\n",
    "\n",
    "void delayMicroseconds(int microseconds) {\n",
    "    usleep(microseconds);\n",
    "}\n",
    "\n",
    "\n",
    "void digitalWrite(gpio gp, int value){\n",
    "    gpio_write(gp, value);\n",
    "}\n",
    "\n",
    "\n",
    "void gpio_config(){\n",
    "    dirPin = gpio_open(8);\n",
    "    gpio_set_direction(dirPin, GPIO_OUT);\n",
    "\n",
    "    stepPin = gpio_open(9);\n",
    "    gpio_set_direction(stepPin, GPIO_OUT);\n",
    "\n",
    "}\n",
    "\n",
    "void _resetMotor()\n",
    "{\n",
    "    // To reset head position move back 10 then forward 5\n",
    "    digitalWrite(dirPin, LOW);\n",
    "    for (int i=0; i < 10; i++){\n",
    "        digitalWrite(stepPin, HIGH);\n",
    "        digitalWrite(stepPin, LOW);\n",
    "        delay(1);\n",
    "    }\n",
    "\n",
    "    digitalWrite(dirPin, HIGH);\n",
    "    for (int i=0; i < 5; i++){\n",
    "        digitalWrite(stepPin, HIGH);\n",
    "        digitalWrite(stepPin, LOW);\n",
    "        delay(1);\n",
    "    }\n",
    "\n",
    "    delay(400);\n",
    "}\n",
    "\n",
    "int _init()\n",
    "{\n",
    "\n",
    "    gpio_config();\n",
    "\n",
    "    _resetMotor();\n",
    "\n",
    "    for (int octave = 0; octave < 4; octave++){\n",
    "        for (int note = 0; note < 12; note++){\n",
    "            floppyDelay[octave][note] = floppyConv / freq[octave][note];\n",
    "        }\n",
    "    }\n",
    "\n",
    "    pyprintf(\"Ready!\");\n",
    "    return 0;\n",
    "}\n",
    "\n",
    "void _playNote(int note, int octave, int length)\n",
    "{\n",
    "    static int dir = 1;\n",
    "    int pause = floppyDelay[octave][note] * 10;\n",
    "\n",
    "    int endTime = length;\n",
    "    \n",
    "    if(note == Zz){\n",
    "        delayMicroseconds(length);\n",
    "        return;\n",
    "    }\n",
    "    \n",
    "    while (endTime > 0){\n",
    "        digitalWrite(dirPin, dir);\n",
    "        if (dir == 0)\n",
    "            dir = 1;\n",
    "        else\n",
    "            dir = 0;\n",
    "\n",
    "        digitalWrite(stepPin, HIGH);\n",
    "        digitalWrite(stepPin, LOW);\n",
    "        delayMicroseconds(pause);\n",
    "        endTime -= 1;\n",
    "    }\n",
    "    digitalWrite(stepPin, LOW);\n",
    "    digitalWrite(dirPin, LOW);    \n",
    "}\n",
    "\n",
    "int _rest(int length)\n",
    "{\n",
    "    int endTime = length;\n",
    "    digitalWrite(stepPin, LOW);\n",
    "    digitalWrite(dirPin, LOW);\n",
    "\n",
    "    while (endTime > 0){\n",
    "        //pyprintf(\"Ciao %d\\n\", endTime);\n",
    "        delay(1);\n",
    "        endTime -= 1;\n",
    "    }\n",
    "    return endTime;\n",
    "}\n",
    "\n"
   ]
  },
  {
   "cell_type": "code",
   "execution_count": 5,
   "id": "65c86ec9",
   "metadata": {},
   "outputs": [
    {
     "name": "stdout",
     "output_type": "stream",
     "text": [
      "Ready!"
     ]
    },
    {
     "data": {
      "text/plain": [
       "0"
      ]
     },
     "execution_count": 5,
     "metadata": {},
     "output_type": "execute_result"
    }
   ],
   "source": [
    "_init()"
   ]
  },
  {
   "cell_type": "code",
   "execution_count": 8,
   "id": "29dab840",
   "metadata": {},
   "outputs": [],
   "source": [
    "# super mario: EE E CE G -G\n",
    "\n",
    "_playNote(Es, 2, 25)\n",
    "_rest(80)\n",
    "_playNote(Es, 2, 20)\n",
    "_rest(200)\n",
    "_playNote(Es, 2, 25)\n",
    "_rest(200)\n",
    "_playNote(Cs, 2, 20)\n",
    "_rest(80)\n",
    "_playNote(Es, 2, 25)\n",
    "_rest(250)\n",
    "_playNote(Gs, 2, 25)\n",
    "_rest(600)\n",
    "_playNote(Gs, 1, 25)"
   ]
  },
  {
   "cell_type": "code",
   "execution_count": null,
   "id": "6b8400fe",
   "metadata": {},
   "outputs": [],
   "source": []
  }
 ],
 "metadata": {
  "kernelspec": {
   "display_name": "Python 3",
   "language": "python",
   "name": "python3"
  },
  "language_info": {
   "codemirror_mode": {
    "name": "ipython",
    "version": 3
   },
   "file_extension": ".py",
   "mimetype": "text/x-python",
   "name": "python",
   "nbconvert_exporter": "python",
   "pygments_lexer": "ipython3",
   "version": "3.8.2"
  }
 },
 "nbformat": 4,
 "nbformat_minor": 5
}
